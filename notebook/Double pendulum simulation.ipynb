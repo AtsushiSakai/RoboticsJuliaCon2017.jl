{
 "cells": [
  {
   "cell_type": "code",
   "execution_count": 1,
   "metadata": {
    "collapsed": false
   },
   "outputs": [
    {
     "data": {
      "text/html": [
       "<div id=\"interact-js-shim\">\n",
       "    <script charset=\"utf-8\">\n",
       "(function (IPython, $, _, MathJax) {\n",
       "    $.event.special.destroyed = {\n",
       "\tremove: function(o) {\n",
       "\t    if (o.handler) {\n",
       "\t\to.handler.apply(this, arguments)\n",
       "\t    }\n",
       "\t}\n",
       "    }\n",
       "\n",
       "    var OutputArea = IPython.version >= \"4.0.0\" ? require(\"notebook/js/outputarea\").OutputArea : IPython.OutputArea;\n",
       "\n",
       "    var redrawValue = function (container, type, val) {\n",
       "\tvar selector = $(\"<div/>\");\n",
       "\tvar oa = new OutputArea(_.extend(selector, {\n",
       "\t    selector: selector,\n",
       "\t    prompt_area: true,\n",
       "\t    events: IPython.events,\n",
       "\t    keyboard_manager: IPython.keyboard_manager\n",
       "\t})); // Hack to work with IPython 2.1.0\n",
       "\n",
       "\tswitch (type) {\n",
       "\tcase \"image/png\":\n",
       "            var _src = 'data:' + type + ';base64,' + val;\n",
       "\t    $(container).find(\"img\").attr('src', _src);\n",
       "\t    break;\n",
       "\tcase \"text/latex\":\n",
       "\t\tif (MathJax){\n",
       "\t\t\tvar math = MathJax.Hub.getAllJax(container)[0];\n",
       "\t\t\tMathJax.Hub.Queue([\"Text\", math, val.replace(/^\\${1,2}|\\${1,2}$/g, '')]);\n",
       "\t\t\tbreak;\n",
       "\t\t}\n",
       "\tdefault:\n",
       "\t    var toinsert = OutputArea.append_map[type].apply(\n",
       "\t\toa, [val, {}, selector]\n",
       "\t    );\n",
       "\t    $(container).empty().append(toinsert.contents());\n",
       "\t    selector.remove();\n",
       "\t}\n",
       "    }\n",
       "\n",
       "\n",
       "    $(document).ready(function() {\n",
       "\tfunction initComm(evt, data) {\n",
       "\t    var comm_manager = data.kernel.comm_manager;\n",
       "        //_.extend(comm_manager.targets, require(\"widgets/js/widget\"))\n",
       "\t    comm_manager.register_target(\"Signal\", function (comm) {\n",
       "            comm.on_msg(function (msg) {\n",
       "                var val = msg.content.data.value;\n",
       "                $(\".signal-\" + comm.comm_id).each(function() {\n",
       "                var type = $(this).data(\"type\");\n",
       "                if (typeof(val[type]) !== \"undefined\" && val[type] !== null) {\n",
       "                    redrawValue(this, type, val[type], type);\n",
       "                }\n",
       "                });\n",
       "                delete val;\n",
       "                delete msg.content.data.value;\n",
       "            });\n",
       "\t    });\n",
       "\n",
       "\t    // coordingate with Comm and redraw Signals\n",
       "\t    // XXX: Test using Reactive here to improve performance\n",
       "\t    $([IPython.events]).on(\n",
       "\t\t'output_appended.OutputArea', function (event, type, value, md, toinsert) {\n",
       "\t\t    if (md && md.reactive) {\n",
       "                // console.log(md.comm_id);\n",
       "                toinsert.addClass(\"signal-\" + md.comm_id);\n",
       "                toinsert.data(\"type\", type);\n",
       "                // Signal back indicating the mimetype required\n",
       "                var comm_manager = IPython.notebook.kernel.comm_manager;\n",
       "                var comm = comm_manager.comms[md.comm_id];\n",
       "                comm.then(function (c) {\n",
       "                    c.send({action: \"subscribe_mime\",\n",
       "                       mime: type});\n",
       "                    toinsert.bind(\"destroyed\", function() {\n",
       "                        c.send({action: \"unsubscribe_mime\",\n",
       "                               mime: type});\n",
       "                    });\n",
       "                })\n",
       "\t\t    }\n",
       "\t    });\n",
       "\t}\n",
       "\n",
       "\ttry {\n",
       "\t    // try to initialize right away. otherwise, wait on the status_started event.\n",
       "\t    initComm(undefined, IPython.notebook);\n",
       "\t} catch (e) {\n",
       "\t    $([IPython.events]).on('kernel_created.Kernel kernel_created.Session', initComm);\n",
       "\t}\n",
       "    });\n",
       "})(IPython, jQuery, _, MathJax);\n",
       "</script>\n",
       "    <script>\n",
       "        window.interactLoadedFlag = true\n",
       "       $(\"#interact-js-shim\").bind(\"destroyed\", function () {\n",
       "           if (window.interactLoadedFlag) {\n",
       "               console.warn(\"JavaScript required by Interact will be removed if you remove this cell or run using Interact more than once.\")\n",
       "           }\n",
       "       })\n",
       "       $([IPython.events]).on(\"kernel_starting.Kernel kernel_restarting.Kernel\", function () { window.interactLoadedFlag = false })\n",
       "   </script>\n",
       "</div>"
      ]
     },
     "metadata": {},
     "output_type": "display_data"
    }
   ],
   "source": [
    "using RigidBodyDynamics\n",
    "using DrakeVisualizer, RigidBodyTreeInspector # for visualization\n",
    "import RigidBodyTreeInspector: inspect!"
   ]
  },
  {
   "cell_type": "code",
   "execution_count": 2,
   "metadata": {
    "collapsed": false
   },
   "outputs": [
    {
     "data": {
      "text/plain": [
       "Spanning tree:\n",
       "Vertex: world (root)\n",
       "  Vertex: base_link, Edge: base_link_to_world\n",
       "    Vertex: upper_link, Edge: shoulder\n",
       "      Vertex: lower_link, Edge: elbow\n",
       "No non-tree joints."
      ]
     },
     "execution_count": 2,
     "metadata": {},
     "output_type": "execute_result"
    }
   ],
   "source": [
    "# load double pendulum mechanism from a URDF\n",
    "urdf = \"doublependulum.urdf\"\n",
    "mechanism = parse_urdf(Float64, urdf)"
   ]
  },
  {
   "cell_type": "code",
   "execution_count": 3,
   "metadata": {
    "collapsed": false
   },
   "outputs": [],
   "source": [
    "# open a DrakeVisualizer window if it isn't open already\n",
    "DrakeVisualizer.any_open_windows() || DrakeVisualizer.new_window();"
   ]
  },
  {
   "cell_type": "code",
   "execution_count": 4,
   "metadata": {
    "collapsed": false
   },
   "outputs": [],
   "source": [
    "# load geometry for visualization from URDF\n",
    "vis = Visualizer()[:doublependulum]\n",
    "setgeometry!(vis, parse_urdf(urdf, mechanism));"
   ]
  },
  {
   "cell_type": "code",
   "execution_count": 5,
   "metadata": {
    "collapsed": false
   },
   "outputs": [
    {
     "data": {
      "text/html": [],
      "text/plain": [
       "Interact.Options{:SelectionSlider,Float64}(1: \"input\" = 0.0 Float64 ,\"shoulder.1\",0.0,\"0.0\",Interact.OptionDict(DataStructures.OrderedDict(\"-3.141592653589793\"=>-3.14159,\"-3.015928947446201\"=>-3.01593,\"-2.8902652413026093\"=>-2.89027,\"-2.7646015351590183\"=>-2.7646,\"-2.6389378290154264\"=>-2.63894,\"-2.5132741228718345\"=>-2.51327,\"-2.3876104167282426\"=>-2.38761,\"-2.261946710584651\"=>-2.26195,\"-2.1362830044410597\"=>-2.13628,\"-2.0106192982974673\"=>-2.01062…),Dict(2.13628=>\"2.1362830044410597\",-3.01593=>\"-3.015928947446201\",-2.13628=>\"-2.1362830044410597\",1.88496=>\"1.8849555921538756\",1.75929=>\"1.7592918860102842\",2.63894=>\"2.6389378290154264\",-0.376991=>\"-0.3769911184307753\",0.251327=>\"0.25132741228718347\",-2.51327=>\"-2.5132741228718345\",1.25664=>\"1.2566370614359172\"…)),Any[],Any[],true,\"horizontal\")"
      ]
     },
     "metadata": {},
     "output_type": "display_data"
    },
    {
     "data": {
      "text/html": [],
      "text/plain": [
       "Interact.Options{:SelectionSlider,Float64}(3: \"input-2\" = 0.0 Float64 ,\"elbow.1\",0.0,\"0.0\",Interact.OptionDict(DataStructures.OrderedDict(\"-3.141592653589793\"=>-3.14159,\"-3.015928947446201\"=>-3.01593,\"-2.8902652413026093\"=>-2.89027,\"-2.7646015351590183\"=>-2.7646,\"-2.6389378290154264\"=>-2.63894,\"-2.5132741228718345\"=>-2.51327,\"-2.3876104167282426\"=>-2.38761,\"-2.261946710584651\"=>-2.26195,\"-2.1362830044410597\"=>-2.13628,\"-2.0106192982974673\"=>-2.01062…),Dict(2.13628=>\"2.1362830044410597\",-3.01593=>\"-3.015928947446201\",-2.13628=>\"-2.1362830044410597\",1.88496=>\"1.8849555921538756\",1.75929=>\"1.7592918860102842\",2.63894=>\"2.6389378290154264\",-0.376991=>\"-0.3769911184307753\",0.251327=>\"0.25132741228718347\",-2.51327=>\"-2.5132741228718345\",1.25664=>\"1.2566370614359172\"…)),Any[],Any[],true,\"horizontal\")"
      ]
     },
     "metadata": {},
     "output_type": "display_data"
    }
   ],
   "source": [
    "# create state object and manipulate it\n",
    "const state = MechanismState(Float64, mechanism)\n",
    "inspect!(state, vis);"
   ]
  },
  {
   "cell_type": "code",
   "execution_count": 8,
   "metadata": {
    "collapsed": false
   },
   "outputs": [],
   "source": [
    "# simulate for 5 seconds\n",
    "times, joint_angles, joint_velocities = simulate(state, 5.);"
   ]
  },
  {
   "cell_type": "code",
   "execution_count": 9,
   "metadata": {
    "collapsed": true
   },
   "outputs": [],
   "source": [
    "# animate\n",
    "animate(vis, mechanism, times, joint_angles)"
   ]
  },
  {
   "cell_type": "code",
   "execution_count": null,
   "metadata": {
    "collapsed": true
   },
   "outputs": [],
   "source": []
  }
 ],
 "metadata": {
  "kernelspec": {
   "display_name": "Julia 0.5.1",
   "language": "julia",
   "name": "julia-0.5"
  },
  "language_info": {
   "file_extension": ".jl",
   "mimetype": "application/julia",
   "name": "julia",
   "version": "0.5.1"
  },
  "widgets": {
   "state": {
    "cfd34504-59e3-449f-b205-dc0c1199a968": {
     "views": [
      {
       "cell_index": 4
      }
     ]
    },
    "d000e5c1-46e9-47d9-a876-cee18d050544": {
     "views": [
      {
       "cell_index": 4
      }
     ]
    },
    "e7355280-e10a-43ef-bcac-61b2bb63d1e9": {
     "views": [
      {
       "cell_index": 4
      }
     ]
    },
    "e9fdbffc-1ade-4b3e-9dc3-2aefdea564e4": {
     "views": [
      {
       "cell_index": 4
      }
     ]
    }
   },
   "version": "1.2.0"
  }
 },
 "nbformat": 4,
 "nbformat_minor": 2
}
