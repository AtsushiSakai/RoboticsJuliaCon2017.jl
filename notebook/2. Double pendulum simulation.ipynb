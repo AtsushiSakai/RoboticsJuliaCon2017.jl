{
 "cells": [
  {
   "cell_type": "markdown",
   "metadata": {},
   "source": [
    "# Setup"
   ]
  },
  {
   "cell_type": "code",
   "execution_count": 97,
   "metadata": {
    "collapsed": false
   },
   "outputs": [],
   "source": [
    "using RigidBodyDynamics\n",
    "using DrakeVisualizer, RigidBodyTreeInspector # for visualization\n",
    "using RoboticsJuliaCon2017\n",
    "delete!(Visualizer());\n",
    "DrakeVisualizer.any_open_windows() || DrakeVisualizer.new_window();"
   ]
  },
  {
   "cell_type": "markdown",
   "metadata": {},
   "source": [
    "# Basic simulation"
   ]
  },
  {
   "cell_type": "markdown",
   "metadata": {},
   "source": [
    "Load double pendulum mechanism from a URDF:"
   ]
  },
  {
   "cell_type": "code",
   "execution_count": 98,
   "metadata": {
    "collapsed": false
   },
   "outputs": [],
   "source": [
    "urdf = \"doublependulum.urdf\"\n",
    "mechanism = parse_urdf(Float64, urdf);"
   ]
  },
  {
   "cell_type": "markdown",
   "metadata": {},
   "source": [
    "Load geometry for visualization from URDF and manipulate:"
   ]
  },
  {
   "cell_type": "code",
   "execution_count": 99,
   "metadata": {
    "collapsed": false
   },
   "outputs": [
    {
     "data": {
      "text/html": [],
      "text/plain": [
       "Interact.Options{:SelectionSlider,Float64}(36: \"input-15\" = 0.0 Float64 , \"shoulder.1\", 0.0, \"0.0\", Interact.OptionDict(DataStructures.OrderedDict(\"-3.141592653589793\"=>-3.14159,\"-3.015928947446201\"=>-3.01593,\"-2.8902652413026098\"=>-2.89027,\"-2.764601535159018\"=>-2.7646,\"-2.6389378290154264\"=>-2.63894,\"-2.5132741228718345\"=>-2.51327,\"-2.3876104167282426\"=>-2.38761,\"-2.261946710584651\"=>-2.26195,\"-2.1362830044410592\"=>-2.13628,\"-2.0106192982974678\"=>-2.01062…), Dict(-3.01593=>\"-3.015928947446201\",2.89027=>\"2.8902652413026098\",1.75929=>\"1.7592918860102842\",2.63894=>\"2.6389378290154264\",0.251327=>\"0.25132741228718347\",-2.51327=>\"-2.5132741228718345\",1.25664=>\"1.2566370614359172\",-3.14159=>\"-3.141592653589793\",1.3823=>\"1.382300767579509\",2.7646=>\"2.764601535159018\"…)), Any[], Any[], true, \"horizontal\")"
      ]
     },
     "metadata": {},
     "output_type": "display_data"
    },
    {
     "data": {
      "text/html": [],
      "text/plain": [
       "Interact.Options{:SelectionSlider,Float64}(38: \"input-16\" = 0.0 Float64 , \"elbow.1\", 0.0, \"0.0\", Interact.OptionDict(DataStructures.OrderedDict(\"-3.141592653589793\"=>-3.14159,\"-3.015928947446201\"=>-3.01593,\"-2.8902652413026098\"=>-2.89027,\"-2.764601535159018\"=>-2.7646,\"-2.6389378290154264\"=>-2.63894,\"-2.5132741228718345\"=>-2.51327,\"-2.3876104167282426\"=>-2.38761,\"-2.261946710584651\"=>-2.26195,\"-2.1362830044410592\"=>-2.13628,\"-2.0106192982974678\"=>-2.01062…), Dict(-3.01593=>\"-3.015928947446201\",2.89027=>\"2.8902652413026098\",1.75929=>\"1.7592918860102842\",2.63894=>\"2.6389378290154264\",0.251327=>\"0.25132741228718347\",-2.51327=>\"-2.5132741228718345\",1.25664=>\"1.2566370614359172\",-3.14159=>\"-3.141592653589793\",1.3823=>\"1.382300767579509\",2.7646=>\"2.764601535159018\"…)), Any[], Any[], true, \"horizontal\")"
      ]
     },
     "metadata": {},
     "output_type": "display_data"
    },
    {
     "name": "stderr",
     "output_type": "stream",
     "text": [
      "WARNING: redefining constant state\n"
     ]
    }
   ],
   "source": [
    "vis = Visualizer()[:doublependulum]\n",
    "setgeometry!(vis, parse_urdf(urdf, mechanism));\n",
    "const state = MechanismState(Float64, mechanism)\n",
    "inspect!(state, vis);"
   ]
  },
  {
   "cell_type": "markdown",
   "metadata": {},
   "source": [
    "Simulate for 5 seconds from selected initial state:"
   ]
  },
  {
   "cell_type": "code",
   "execution_count": 100,
   "metadata": {
    "collapsed": false
   },
   "outputs": [],
   "source": [
    "times, joint_angles, joint_velocities = simulate(state, 5.);"
   ]
  },
  {
   "cell_type": "code",
   "execution_count": 101,
   "metadata": {
    "collapsed": true
   },
   "outputs": [],
   "source": [
    "animate(vis, mechanism, times, joint_angles)"
   ]
  },
  {
   "cell_type": "markdown",
   "metadata": {},
   "source": [
    "# Kinematics"
   ]
  },
  {
   "cell_type": "markdown",
   "metadata": {},
   "source": [
    "Extract the joints of the mechanism:"
   ]
  },
  {
   "cell_type": "code",
   "execution_count": 102,
   "metadata": {
    "collapsed": false
   },
   "outputs": [
    {
     "data": {
      "text/plain": [
       "3-element Array{RigidBodyDynamics.Joint{Float64},1}:\n",
       " Joint \"base_link_to_world\": Fixed joint                   \n",
       " Joint \"shoulder\": Revolute joint with axis [0.0, 1.0, 0.0]\n",
       " Joint \"elbow\": Revolute joint with axis [0.0, 1.0, 0.0]   "
      ]
     },
     "execution_count": 102,
     "metadata": {},
     "output_type": "execute_result"
    }
   ],
   "source": [
    "_, shoulder, elbow = joints(mechanism)"
   ]
  },
  {
   "cell_type": "code",
   "execution_count": 103,
   "metadata": {
    "collapsed": false
   },
   "outputs": [
    {
     "data": {
      "text/plain": [
       "CartesianFrame3D: \"after_elbow\" (id = 112)"
      ]
     },
     "execution_count": 103,
     "metadata": {},
     "output_type": "execute_result"
    }
   ],
   "source": [
    "frame = frame_after(elbow)"
   ]
  },
  {
   "cell_type": "code",
   "execution_count": 104,
   "metadata": {
    "collapsed": false
   },
   "outputs": [],
   "source": [
    "visualize!(vis, mechanism, frame)"
   ]
  },
  {
   "cell_type": "markdown",
   "metadata": {},
   "source": [
    "Define a point in the frame after the elbow joint:"
   ]
  },
  {
   "cell_type": "code",
   "execution_count": 105,
   "metadata": {
    "collapsed": false
   },
   "outputs": [
    {
     "data": {
      "text/plain": [
       "Point3D in \"after_elbow\": [0.0, 0.0, -2.0]"
      ]
     },
     "execution_count": 105,
     "metadata": {},
     "output_type": "execute_result"
    }
   ],
   "source": [
    "tip = Point3D(frame_after(elbow), 0., 0., -2.)"
   ]
  },
  {
   "cell_type": "code",
   "execution_count": 106,
   "metadata": {
    "collapsed": true
   },
   "outputs": [],
   "source": [
    "visualize!(vis, mechanism, tip)"
   ]
  },
  {
   "cell_type": "markdown",
   "metadata": {},
   "source": [
    "Transform this point to world frame:"
   ]
  },
  {
   "cell_type": "code",
   "execution_count": 107,
   "metadata": {
    "collapsed": false
   },
   "outputs": [
    {
     "data": {
      "text/plain": [
       "CartesianFrame3D: \"world\" (id = 104)"
      ]
     },
     "execution_count": 107,
     "metadata": {},
     "output_type": "execute_result"
    }
   ],
   "source": [
    "worldframe = root_frame(mechanism)"
   ]
  },
  {
   "cell_type": "code",
   "execution_count": 108,
   "metadata": {
    "collapsed": false
   },
   "outputs": [
    {
     "data": {
      "text/plain": [
       "Point3D in \"world\": [1.88077, 0.25, -2.23182]"
      ]
     },
     "execution_count": 108,
     "metadata": {},
     "output_type": "execute_result"
    }
   ],
   "source": [
    "tip_world = transform(state, tip, worldframe)"
   ]
  },
  {
   "cell_type": "markdown",
   "metadata": {},
   "source": [
    "Computing the difference between two points:"
   ]
  },
  {
   "cell_type": "code",
   "execution_count": 109,
   "metadata": {
    "collapsed": false
   },
   "outputs": [
    {
     "data": {
      "text/plain": [
       "Point3D in \"after_elbow\": [0.0, 0.0, -1.0]"
      ]
     },
     "execution_count": 109,
     "metadata": {},
     "output_type": "execute_result"
    }
   ],
   "source": [
    "otherpoint = Point3D(frame_after(elbow), 0., 0., -1.)"
   ]
  },
  {
   "cell_type": "code",
   "execution_count": 110,
   "metadata": {
    "collapsed": false
   },
   "outputs": [
    {
     "data": {
      "text/plain": [
       "FreeVector3D in \"after_elbow\": [0.0, 0.0, -1.0]"
      ]
     },
     "execution_count": 110,
     "metadata": {},
     "output_type": "execute_result"
    }
   ],
   "source": [
    "tip - otherpoint"
   ]
  },
  {
   "cell_type": "code",
   "execution_count": 111,
   "metadata": {
    "collapsed": false
   },
   "outputs": [
    {
     "ename": "LoadError",
     "evalue": "\u001b[91mArgumentError: p1.frame (\"world\", id = 104) ≠ p2.frame (\"after_elbow\", id = 112)\u001b[39m",
     "output_type": "error",
     "traceback": [
      "\u001b[91mArgumentError: p1.frame (\"world\", id = 104) ≠ p2.frame (\"after_elbow\", id = 112)\u001b[39m",
      "",
      "Stacktrace:",
      " [1] \u001b[1m-\u001b[22m\u001b[22m\u001b[1m(\u001b[22m\u001b[22m::RigidBodyDynamics.Point3D{SVector{3,Float64}}, ::RigidBodyDynamics.Point3D{SVector{3,Float64}}\u001b[1m)\u001b[22m\u001b[22m at \u001b[1m/Users/twan/code/julia/RigidBodyDynamics/v0.6/RigidBodyDynamics/src/frames.jl:57\u001b[22m\u001b[22m"
     ]
    }
   ],
   "source": [
    "tip_world - otherpoint"
   ]
  },
  {
   "cell_type": "markdown",
   "metadata": {
    "collapsed": true
   },
   "source": [
    "# Dynamics"
   ]
  },
  {
   "cell_type": "code",
   "execution_count": 112,
   "metadata": {
    "collapsed": false
   },
   "outputs": [
    {
     "data": {
      "text/plain": [
       "2×2 Symmetric{Float64,Array{Float64,2}}:\n",
       " 4.42215  2.20958\n",
       " 2.20958  1.33   "
      ]
     },
     "execution_count": 112,
     "metadata": {},
     "output_type": "execute_result"
    }
   ],
   "source": [
    "mass_matrix(state)"
   ]
  },
  {
   "cell_type": "code",
   "execution_count": null,
   "metadata": {
    "collapsed": true
   },
   "outputs": [],
   "source": []
  }
 ],
 "metadata": {
  "kernelspec": {
   "display_name": "Julia 0.6.0",
   "language": "julia",
   "name": "julia-0.6"
  },
  "language_info": {
   "file_extension": ".jl",
   "mimetype": "application/julia",
   "name": "julia",
   "version": "0.6.0"
  },
  "widgets": {
   "state": {
    "207cf046-dbf7-40d5-86b4-dad6826f7110": {
     "views": [
      {
       "cell_index": 6
      }
     ]
    },
    "234d0585-8cf5-49ef-98db-77f032d5c1cc": {
     "views": [
      {
       "cell_index": 10
      }
     ]
    },
    "51d795fa-5c4e-41de-a7c2-28f7e87ff821": {
     "views": [
      {
       "cell_index": 6
      }
     ]
    },
    "8a0657d5-77a7-4c8a-9662-06f6e7013cee": {
     "views": [
      {
       "cell_index": 6
      }
     ]
    },
    "abd3e5ae-5dfa-48f4-b53d-6404f9e51a01": {
     "views": [
      {
       "cell_index": 6
      }
     ]
    },
    "ad204649-accd-4e45-aafd-eb7e49356e5a": {
     "views": [
      {
       "cell_index": 10
      }
     ]
    },
    "b2b28eaf-253f-4641-aee5-ac0af7841df5": {
     "views": [
      {
       "cell_index": 6
      }
     ]
    },
    "cf693b37-5d06-4c77-98d7-209d1a36e5ef": {
     "views": [
      {
       "cell_index": 6
      }
     ]
    },
    "d9c4755d-77ea-4fd5-83a7-5f55a3685085": {
     "views": [
      {
       "cell_index": 6
      }
     ]
    }
   },
   "version": "1.2.0"
  }
 },
 "nbformat": 4,
 "nbformat_minor": 2
}
