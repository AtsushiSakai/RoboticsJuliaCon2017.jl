{
 "cells": [
  {
   "cell_type": "code",
   "execution_count": 34,
   "metadata": {
    "collapsed": true
   },
   "outputs": [],
   "source": [
    "using DrakeVisualizer, GeometryTypes, CoordinateTransformations\n",
    "if !DrakeVisualizer.any_open_windows()\n",
    "    DrakeVisualizer.new_window()\n",
    "end"
   ]
  },
  {
   "cell_type": "code",
   "execution_count": 35,
   "metadata": {
    "collapsed": false
   },
   "outputs": [],
   "source": [
    "# Create a handle to the visualizer\n",
    "vis = Visualizer();"
   ]
  },
  {
   "cell_type": "code",
   "execution_count": 37,
   "metadata": {
    "collapsed": true
   },
   "outputs": [],
   "source": [
    "base = vis[:base]\n",
    "setgeometry!(base, HyperSphere(Point(0., 0, 0), 0.25));"
   ]
  },
  {
   "cell_type": "code",
   "execution_count": 38,
   "metadata": {
    "collapsed": true
   },
   "outputs": [],
   "source": [
    "using MeshIO, FileIO\n",
    "setgeometry!(base, load(\"cat2.obj\"));"
   ]
  },
  {
   "cell_type": "code",
   "execution_count": 39,
   "metadata": {
    "collapsed": true
   },
   "outputs": [],
   "source": [
    "arm = base[:arm]\n",
    "setgeometry!(arm, HyperRectangle(\n",
    "        Vec(-0.02, -0.02, -0.02), Vec(0.04, 1, 0.04)));"
   ]
  },
  {
   "cell_type": "code",
   "execution_count": 40,
   "metadata": {
    "collapsed": true
   },
   "outputs": [],
   "source": [
    "settransform!(base, Translation(1, 0, 0));"
   ]
  },
  {
   "cell_type": "code",
   "execution_count": 41,
   "metadata": {
    "collapsed": true
   },
   "outputs": [],
   "source": [
    "settransform!(arm, LinearMap(RotX(pi/2)));"
   ]
  },
  {
   "cell_type": "code",
   "execution_count": 42,
   "metadata": {
    "collapsed": false
   },
   "outputs": [
    {
     "data": {
      "text/html": [],
      "text/plain": [
       "Interact.Options{:SelectionSlider,Float64}(19: \"input-7\" = 0.4897959183673469 Float64 , \"x\", 0.4897959183673469, \"0.4897959183673469\", Interact.OptionDict(DataStructures.OrderedDict(\"0.0\"=>0.0,\"0.02040816326530612\"=>0.0204082,\"0.04081632653061224\"=>0.0408163,\"0.061224489795918366\"=>0.0612245,\"0.08163265306122448\"=>0.0816327,\"0.10204081632653061\"=>0.102041,\"0.12244897959183673\"=>0.122449,\"0.14285714285714285\"=>0.142857,\"0.16326530612244897\"=>0.163265,\"0.1836734693877551\"=>0.183673…), Dict(0.122449=>\"0.12244897959183673\",0.795918=>\"0.7959183673469388\",0.591837=>\"0.5918367346938775\",0.693878=>\"0.6938775510204082\",0.959184=>\"0.9591836734693877\",0.55102=>\"0.5510204081632653\",0.387755=>\"0.3877551020408163\",0.367347=>\"0.3673469387755102\",0.612245=>\"0.6122448979591837\",0.44898=>\"0.4489795918367347\"…)), Any[], Any[], true, \"horizontal\")"
      ]
     },
     "metadata": {},
     "output_type": "display_data"
    },
    {
     "data": {
      "text/html": [],
      "text/plain": [
       "Interact.Options{:SelectionSlider,Float64}(21: \"input-8\" = -0.0641141357875468 Float64 , \"θ\", -0.0641141357875468, \"-0.0641141357875468\", Interact.OptionDict(DataStructures.OrderedDict(\"-3.141592653589793\"=>-3.14159,\"-3.0133643820146996\"=>-3.01336,\"-2.885136110439606\"=>-2.88514,\"-2.7569078388645125\"=>-2.75691,\"-2.6286795672894185\"=>-2.62868,\"-2.500451295714325\"=>-2.50045,\"-2.3722230241392315\"=>-2.37222,\"-2.243994752564138\"=>-2.24399,\"-2.1157664809890444\"=>-2.11577,\"-1.9875382094139507\"=>-1.98754…), Dict(-2.37222=>\"-2.3722230241392315\",-2.88514=>\"-2.885136110439606\",1.98754=>\"1.9875382094139507\",0.320571=>\"0.320570678937734\",2.50045=>\"2.500451295714325\",-3.14159=>\"-3.141592653589793\",1.3464=>\"1.3463968515384828\",-0.577027=>\"-0.5770272220879212\",-0.448799=>\"-0.4487989505128276\",-2.50045=>\"-2.500451295714325\"…)), Any[], Any[], true, \"horizontal\")"
      ]
     },
     "metadata": {},
     "output_type": "display_data"
    },
    {
     "data": {
      "text/plain": [
       "Set{Array{Symbol,1}}()"
      ]
     },
     "execution_count": 42,
     "metadata": {
      "comm_id": "2645f81f-7089-4a8c-ac7f-5670756a6cab",
      "reactive": true
     },
     "output_type": "execute_result"
    }
   ],
   "source": [
    "using Interact\n",
    "\n",
    "@manipulate for x in linspace(0, 1), θ in linspace(-pi, pi)\n",
    "    settransform!(base, Translation(x, 0, 0))\n",
    "    settransform!(arm, LinearMap(RotX(θ)))\n",
    "end"
   ]
  },
  {
   "cell_type": "code",
   "execution_count": null,
   "metadata": {
    "collapsed": true
   },
   "outputs": [],
   "source": []
  }
 ],
 "metadata": {
  "kernelspec": {
   "display_name": "Julia 0.6.0",
   "language": "julia",
   "name": "julia-0.6"
  },
  "language_info": {
   "file_extension": ".jl",
   "mimetype": "application/julia",
   "name": "julia",
   "version": "0.6.0"
  },
  "widgets": {
   "state": {
    "09925cd1-d2f4-45fd-a586-37f6e934abe5": {
     "views": [
      {
       "cell_index": 7
      }
     ]
    },
    "3c5d125d-bd0b-4fa8-8d7b-ddb6e505f25b": {
     "views": [
      {
       "cell_index": 7
      }
     ]
    },
    "5e64218a-ef33-49f3-b5cf-926b10502b1c": {
     "views": [
      {
       "cell_index": 7
      }
     ]
    },
    "b4245bb1-74ef-4a07-b12d-a67cbbd374be": {
     "views": [
      {
       "cell_index": 7
      }
     ]
    },
    "c0a4d733-8a2e-47e2-8f3b-0798b1b3449b": {
     "views": [
      {
       "cell_index": 7
      }
     ]
    }
   },
   "version": "1.2.0"
  }
 },
 "nbformat": 4,
 "nbformat_minor": 2
}
