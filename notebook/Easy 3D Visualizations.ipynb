{
 "cells": [
  {
   "cell_type": "code",
   "execution_count": null,
   "metadata": {},
   "outputs": [],
   "source": [
    "using DrakeVisualizer, GeometryTypes, CoordinateTransformations\n",
    "if !DrakeVisualizer.any_open_windows()\n",
    "    DrakeVisualizer.new_window()\n",
    "end"
   ]
  },
  {
   "cell_type": "code",
   "execution_count": null,
   "metadata": {},
   "outputs": [],
   "source": [
    "# Create a handle to the visualizer\n",
    "vis = Visualizer();"
   ]
  },
  {
   "cell_type": "code",
   "execution_count": null,
   "metadata": {},
   "outputs": [],
   "source": [
    "base = vis[:base]\n",
    "setgeometry!(base, HyperSphere(Point(0., 0, 0), 0.25));"
   ]
  },
  {
   "cell_type": "code",
   "execution_count": null,
   "metadata": {},
   "outputs": [],
   "source": [
    "using MeshIO, FileIO\n",
    "setgeometry!(base, load(\"cat2.obj\"));"
   ]
  },
  {
   "cell_type": "code",
   "execution_count": null,
   "metadata": {},
   "outputs": [],
   "source": [
    "arm = base[:arm]\n",
    "setgeometry!(arm, HyperRectangle(\n",
    "        Vec(-0.02, -0.02, -0.02), Vec(0.04, 1, 0.04)));"
   ]
  },
  {
   "cell_type": "code",
   "execution_count": null,
   "metadata": {},
   "outputs": [],
   "source": [
    "settransform!(base, Translation(1, 0, 0));"
   ]
  },
  {
   "cell_type": "code",
   "execution_count": null,
   "metadata": {},
   "outputs": [],
   "source": [
    "settransform!(arm, LinearMap(RotX(pi/2)));"
   ]
  },
  {
   "cell_type": "code",
   "execution_count": null,
   "metadata": {},
   "outputs": [],
   "source": [
    "using Interact\n",
    "\n",
    "@manipulate for x in linspace(0, 1), θ in linspace(-pi, pi)\n",
    "    settransform!(base, Translation(x, 0, 0))\n",
    "    settransform!(arm, LinearMap(RotX(θ)))\n",
    "end"
   ]
  },
  {
   "cell_type": "code",
   "execution_count": null,
   "metadata": {
    "collapsed": true
   },
   "outputs": [],
   "source": []
  }
 ],
 "metadata": {
  "kernelspec": {
   "display_name": "Julia 0.6.0",
   "language": "julia",
   "name": "julia-0.6"
  },
  "language_info": {
   "file_extension": ".jl",
   "mimetype": "application/julia",
   "name": "julia",
   "version": "0.6.0"
  }
 },
 "nbformat": 4,
 "nbformat_minor": 2
}
